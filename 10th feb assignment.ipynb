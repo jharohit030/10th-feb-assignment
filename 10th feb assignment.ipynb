{
 "cells": [
  {
   "cell_type": "code",
   "execution_count": null,
   "id": "603e879f-5037-42a1-9726-f499a460d092",
   "metadata": {},
   "outputs": [],
   "source": [
    "#Question 1:\n",
    "\n",
    "In Python, we use the open() method to open files.\n",
    "\n",
    "# open file in current directory\n",
    "file1 = open(\"test.txt\")\n",
    "\n",
    "Here, we have created a file object named file1. This object can be used to work with files and directories.\n",
    "\n",
    "By default, the files are open in read mode (cannot be modified). The code above is equivalent to\n",
    "\n",
    "file1 = open(\"test.txt\", \"r\")\n",
    "\n",
    "Different Modes to Open a File in Python\n",
    "\n",
    "1. r -> Open a file for reading. (default)\n",
    "2. w -> Open a file for writing. Creates a new file if it does not exist or truncates the file if it exists.\n",
    "3. x -> Open a file for exclusive creation. If the file already exists, the operation fails.\n",
    "4. a -> Open a file for appending at the end of the file without truncating it. Creates a new file if it does not exist.\n",
    "5. t -> Open in text mode. (default)\n",
    "6. b -> Open in binary mode.\n",
    "7. + -> Open a file for updating (reading and writing)\n",
    "\n",
    "Example:\n",
    "    \n",
    "file1 = open(\"test.txt\")      # equivalent to 'r' or 'rt'\n",
    "file1 = open(\"test.txt\",'w')  # write in text mode\n",
    "file1 = open(\"img.bmp\",'r+b') # read and write in binary mode\n",
    "file1 = open(\"myfile.txt\", \"a\") # open file in append mode\n",
    "file 1 = open(\"myfile.txt\", \"r+\") #open file in read and write mode\n",
    "\n",
    "\n",
    "\n"
   ]
  },
  {
   "cell_type": "code",
   "execution_count": null,
   "id": "d114159d-f13c-4d38-8f50-b7fd704b25b3",
   "metadata": {},
   "outputs": [],
   "source": [
    "#Quesiton 2.\n",
    "\n",
    "The close() method closes an open file.\n",
    "We should always close your files, in some cases, due to buffering, changes made to a file may not show until you close the file.\n",
    "\n",
    "Python file method close() closes the opened file. A closed file cannot be read or written any more. Any operation, which requires that the file be opened will raise a ValueError after the file has been closed. Calling close() more than once is allowed.\n",
    "\n",
    "Python automatically closes a file when the reference object of a file is reassigned to another file. It is a good practice to use the close() method to close a file.\n",
    "\n",
    "Example:\n",
    "    \n",
    "# Open a file\n",
    "fo = open(\"foo.txt\", \"wb\")\n",
    "print \"Name of the file: \", fo.name\n",
    "\n",
    "# Close opend file\n",
    "fo.close()\n"
   ]
  },
  {
   "cell_type": "code",
   "execution_count": 1,
   "id": "5a628176-22b1-4e8a-a3b5-6599960ef936",
   "metadata": {},
   "outputs": [],
   "source": [
    "#Quesiton 3:\n",
    "\n",
    "f = open('temp.txt','w')"
   ]
  },
  {
   "cell_type": "code",
   "execution_count": 2,
   "id": "0d4a2695-6dad-4db3-a354-2521252cb03a",
   "metadata": {},
   "outputs": [
    {
     "data": {
      "text/plain": [
       "33"
      ]
     },
     "execution_count": 2,
     "metadata": {},
     "output_type": "execute_result"
    }
   ],
   "source": [
    "f.write('I want to become a Data Scientist')"
   ]
  },
  {
   "cell_type": "code",
   "execution_count": 3,
   "id": "0af9a20f-496d-4623-97af-6e651ffa16ad",
   "metadata": {},
   "outputs": [],
   "source": [
    "f.close()"
   ]
  },
  {
   "cell_type": "code",
   "execution_count": 4,
   "id": "d9accb7b-d806-4c32-b61a-45354920abbd",
   "metadata": {},
   "outputs": [],
   "source": [
    "f = open('temp.txt', 'r')"
   ]
  },
  {
   "cell_type": "code",
   "execution_count": 5,
   "id": "bd8aaac5-d1be-44a8-81ca-311ecd51f655",
   "metadata": {},
   "outputs": [
    {
     "data": {
      "text/plain": [
       "'I want to become a Data Scientist'"
      ]
     },
     "execution_count": 5,
     "metadata": {},
     "output_type": "execute_result"
    }
   ],
   "source": [
    "f.read()"
   ]
  },
  {
   "cell_type": "code",
   "execution_count": null,
   "id": "0b9595e7-3e46-49be-94e7-0cf5ecdf8c1a",
   "metadata": {},
   "outputs": [],
   "source": [
    "#Question 4:\n",
    "\n",
    "1.Python readline() method will return a line from the file when called.\n",
    "\n",
    "file = open(\"filename.txt\", \"r\")\n",
    "file.readline()\n",
    "\n",
    "2. readlines() method will return all the lines in a file in the format of a list where each element is a line in the file\n",
    "\n",
    "file = open(\"filename.txt\",\"r\")\n",
    "file.readlines()\n",
    "\n",
    "3. The read() method returns the specified number of bytes from the file. Default is -1 which means the whole file.\n",
    "\n",
    "f = open(\"demofile.txt\", \"r\")\n",
    "print(f.read())\n",
    "\n"
   ]
  },
  {
   "cell_type": "code",
   "execution_count": null,
   "id": "7eec393b-6432-45a3-8fb9-42468262a5ee",
   "metadata": {},
   "outputs": [],
   "source": [
    "#Question 5:\n",
    "\n",
    "The with statement works with the open() function to open a file.\n",
    "\n",
    "Supporting with statement in your objects will ensure that you never leave any resource open. To use with statement in user defined objects you only need to add the methods __enter__() and __exit__() in the object methods.\n",
    "\n",
    "class MessageWriter(object):\n",
    "    def __init__(self, file_name):\n",
    "        self.file_name = file_name\n",
    "     \n",
    "    def __enter__(self):\n",
    "        self.file = open(self.file_name, 'w')\n",
    "        return self.file\n",
    " \n",
    "    def __exit__(self, *args):\n",
    "        self.file.close()\n",
    " \n",
    "# using with statement with MessageWriter\n",
    " \n",
    "with MessageWriter('my_file.txt') as xfile:\n",
    "    xfile.write('hello world')\n",
    "    \n",
    "Advantage of using with statement and open() together:\n",
    "- Using with means that the file will be closed as soon as you leave the block. This is beneficial because closing a file is something that can easily be forgotten and ties up resources that you no longer need.\n",
    "    "
   ]
  },
  {
   "cell_type": "code",
   "execution_count": null,
   "id": "27f1fe6b-ee24-4a02-b47a-8974fae6cfaa",
   "metadata": {},
   "outputs": [],
   "source": [
    "#Question 6:\n",
    "\n",
    "write() function:\n",
    "    \n",
    "    The write() function will write the content in the file without adding any extra characters.\n",
    "    \n",
    "    file = open(\"Employees.txt\", \"w\")\n",
    "  \n",
    "for i in range(3):\n",
    "   name = input(\"Enter the name of the employee: \")\n",
    "   file.write(name)\n",
    "   file.write(\"\\n\")\n",
    "     \n",
    "file.close()\n",
    "  \n",
    "print(\"Data is written into the file.\")\n",
    "    \n",
    "writelines() function:\n",
    "    \n",
    "    This function writes the content of a list to a file.\n",
    "    \n",
    "    As per the syntax, the list of strings that is passed to the writelines() function is written into the opened file. Similar to the write() function, the writelines() function does not add a newline character(\\n) to the end of the string.\n",
    "\n",
    "\n",
    "file1 = open(\"Employees.txt\", \"w\")\n",
    "lst = []\n",
    "for i in range(3):\n",
    "    name = input(\"Enter the name of the employee: \")\n",
    "    lst.append(name + '\\n')\n",
    "      \n",
    "file1.writelines(lst)\n",
    "file1.close()\n",
    "print(\"Data is written into the file.\") "
   ]
  }
 ],
 "metadata": {
  "kernelspec": {
   "display_name": "Python 3 (ipykernel)",
   "language": "python",
   "name": "python3"
  },
  "language_info": {
   "codemirror_mode": {
    "name": "ipython",
    "version": 3
   },
   "file_extension": ".py",
   "mimetype": "text/x-python",
   "name": "python",
   "nbconvert_exporter": "python",
   "pygments_lexer": "ipython3",
   "version": "3.10.8"
  }
 },
 "nbformat": 4,
 "nbformat_minor": 5
}
